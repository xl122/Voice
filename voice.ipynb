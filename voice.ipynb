{
  "nbformat": 4,
  "nbformat_minor": 5,
  "metadata": {
    "kernelspec": {
      "display_name": "Python 3",
      "language": "python",
      "name": "python3"
    },
    "language_info": {
      "codemirror_mode": {
        "name": "ipython",
        "version": 3
      },
      "file_extension": ".py",
      "mimetype": "text/x-python",
      "name": "python",
      "nbconvert_exporter": "python",
      "pygments_lexer": "ipython3",
      "version": "3.8.8"
    },
    "colab": {
      "name": "voice.ipynb",
      "provenance": []
    },
    "accelerator": "GPU"
  },
  "cells": [
    {
      "cell_type": "code",
      "metadata": {
        "id": "e6eb7e44"
      },
      "source": [
        "import os\n",
        "import pathlib\n",
        "\n",
        "import matplotlib.pyplot as plt\n",
        "import numpy as np\n",
        "import seaborn as sns\n",
        "import tensorflow as tensorflow\n",
        "\n",
        "from tensorflow.keras import layers\n",
        "from tensorflow.keras import models\n",
        "from IPython import display\n",
        "\n",
        "# Set the seed value for experiment reproducibility.\n",
        "seed = 42\n",
        "tensorflow.random.set_seed(seed)\n",
        "np.random.seed(seed)\n",
        "\n",
        "os.environ[\"WANTED_WORDS\"]=\"yes,no\"\n",
        "os.environ[\"TRAING_STEPS\"]=\"15000,3000\"\n",
        "os.environ[\"LEARNING_RATE\"]=\"0.001,0.0001\"\n"
      ],
      "id": "e6eb7e44",
      "execution_count": 1,
      "outputs": []
    }
  ]
}